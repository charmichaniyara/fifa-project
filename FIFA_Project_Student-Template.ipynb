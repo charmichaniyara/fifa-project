{
 "cells": [
  {
   "cell_type": "code",
   "execution_count": 1,
   "metadata": {},
   "outputs": [],
   "source": [
    "# import the modules\n",
    "import pandas as pd\n",
    "import numpy as np\n",
    "import matplotlib.pyplot as plt\n",
    "import scipy.stats as stats\n",
    "from sklearn.linear_model import LinearRegression\n",
    "from sklearn.model_selection import train_test_split\n",
    "from sklearn.metrics import mean_squared_error, r2_score\n",
    "import seaborn as sns\n",
    "import warnings\n",
    "warnings.filterwarnings(\"ignore\")"
   ]
  },
  {
   "cell_type": "markdown",
   "metadata": {},
   "source": [
    "### Load the dataset\n",
    "\n",
    "- Load the train data and using all your knowledge of pandas try to explore the different statistical properties of the dataset."
   ]
  },
  {
   "cell_type": "code",
   "execution_count": 2,
   "metadata": {},
   "outputs": [
    {
     "data": {
      "text/html": [
       "<div>\n",
       "<style scoped>\n",
       "    .dataframe tbody tr th:only-of-type {\n",
       "        vertical-align: middle;\n",
       "    }\n",
       "\n",
       "    .dataframe tbody tr th {\n",
       "        vertical-align: top;\n",
       "    }\n",
       "\n",
       "    .dataframe thead th {\n",
       "        text-align: right;\n",
       "    }\n",
       "</style>\n",
       "<table border=\"1\" class=\"dataframe\">\n",
       "  <thead>\n",
       "    <tr style=\"text-align: right;\">\n",
       "      <th></th>\n",
       "      <th>Id</th>\n",
       "      <th>Name</th>\n",
       "      <th>Age</th>\n",
       "      <th>Nationality</th>\n",
       "      <th>Overall</th>\n",
       "      <th>Potential</th>\n",
       "      <th>Club</th>\n",
       "      <th>Value (M)</th>\n",
       "      <th>Wage (M)</th>\n",
       "      <th>Position</th>\n",
       "    </tr>\n",
       "  </thead>\n",
       "  <tbody>\n",
       "    <tr>\n",
       "      <th>0</th>\n",
       "      <td>17221</td>\n",
       "      <td>F. Burdenski</td>\n",
       "      <td>25</td>\n",
       "      <td>Germany</td>\n",
       "      <td>54</td>\n",
       "      <td>58</td>\n",
       "      <td>Korona Kielce</td>\n",
       "      <td>0.07</td>\n",
       "      <td>0.001</td>\n",
       "      <td>CDM</td>\n",
       "    </tr>\n",
       "    <tr>\n",
       "      <th>1</th>\n",
       "      <td>11353</td>\n",
       "      <td>A. Deiola</td>\n",
       "      <td>21</td>\n",
       "      <td>Italy</td>\n",
       "      <td>64</td>\n",
       "      <td>73</td>\n",
       "      <td>Cagliari</td>\n",
       "      <td>0.70</td>\n",
       "      <td>0.010</td>\n",
       "      <td>CM</td>\n",
       "    </tr>\n",
       "    <tr>\n",
       "      <th>2</th>\n",
       "      <td>3402</td>\n",
       "      <td>T. Castagne</td>\n",
       "      <td>21</td>\n",
       "      <td>Belgium</td>\n",
       "      <td>72</td>\n",
       "      <td>79</td>\n",
       "      <td>Atalanta</td>\n",
       "      <td>3.70</td>\n",
       "      <td>0.013</td>\n",
       "      <td>RB</td>\n",
       "    </tr>\n",
       "    <tr>\n",
       "      <th>3</th>\n",
       "      <td>16071</td>\n",
       "      <td>D. Gorman</td>\n",
       "      <td>21</td>\n",
       "      <td>Northern Ireland</td>\n",
       "      <td>57</td>\n",
       "      <td>66</td>\n",
       "      <td>Stevenage</td>\n",
       "      <td>0.16</td>\n",
       "      <td>0.002</td>\n",
       "      <td>CM</td>\n",
       "    </tr>\n",
       "    <tr>\n",
       "      <th>4</th>\n",
       "      <td>12380</td>\n",
       "      <td>N. Molina Lucero</td>\n",
       "      <td>19</td>\n",
       "      <td>Argentina</td>\n",
       "      <td>63</td>\n",
       "      <td>75</td>\n",
       "      <td>Boca Juniors</td>\n",
       "      <td>0.55</td>\n",
       "      <td>0.002</td>\n",
       "      <td>LB</td>\n",
       "    </tr>\n",
       "    <tr>\n",
       "      <th>5</th>\n",
       "      <td>3959</td>\n",
       "      <td>Hervías</td>\n",
       "      <td>24</td>\n",
       "      <td>Spain</td>\n",
       "      <td>72</td>\n",
       "      <td>77</td>\n",
       "      <td>Real Valladolid</td>\n",
       "      <td>4.20</td>\n",
       "      <td>0.012</td>\n",
       "      <td>RM</td>\n",
       "    </tr>\n",
       "    <tr>\n",
       "      <th>6</th>\n",
       "      <td>11496</td>\n",
       "      <td>D. George</td>\n",
       "      <td>19</td>\n",
       "      <td>Netherlands</td>\n",
       "      <td>64</td>\n",
       "      <td>74</td>\n",
       "      <td>FC Twente</td>\n",
       "      <td>0.70</td>\n",
       "      <td>0.002</td>\n",
       "      <td>RM</td>\n",
       "    </tr>\n",
       "    <tr>\n",
       "      <th>7</th>\n",
       "      <td>10773</td>\n",
       "      <td>C. Bassogog</td>\n",
       "      <td>21</td>\n",
       "      <td>Cameroon</td>\n",
       "      <td>65</td>\n",
       "      <td>72</td>\n",
       "      <td>NaN</td>\n",
       "      <td>0.00</td>\n",
       "      <td>0.000</td>\n",
       "      <td>ST</td>\n",
       "    </tr>\n",
       "    <tr>\n",
       "      <th>8</th>\n",
       "      <td>6989</td>\n",
       "      <td>B. Guillaume</td>\n",
       "      <td>22</td>\n",
       "      <td>Belgium</td>\n",
       "      <td>68</td>\n",
       "      <td>74</td>\n",
       "      <td>Angers SCO</td>\n",
       "      <td>1.20</td>\n",
       "      <td>0.013</td>\n",
       "      <td>ST</td>\n",
       "    </tr>\n",
       "    <tr>\n",
       "      <th>9</th>\n",
       "      <td>1731</td>\n",
       "      <td>S. Pérez</td>\n",
       "      <td>24</td>\n",
       "      <td>Colombia</td>\n",
       "      <td>75</td>\n",
       "      <td>80</td>\n",
       "      <td>Boca Juniors</td>\n",
       "      <td>9.00</td>\n",
       "      <td>0.020</td>\n",
       "      <td>CDM</td>\n",
       "    </tr>\n",
       "  </tbody>\n",
       "</table>\n",
       "</div>"
      ],
      "text/plain": [
       "      Id              Name  Age       Nationality  Overall  Potential  \\\n",
       "0  17221      F. Burdenski   25           Germany       54         58   \n",
       "1  11353         A. Deiola   21             Italy       64         73   \n",
       "2   3402       T. Castagne   21           Belgium       72         79   \n",
       "3  16071         D. Gorman   21  Northern Ireland       57         66   \n",
       "4  12380  N. Molina Lucero   19         Argentina       63         75   \n",
       "5   3959           Hervías   24             Spain       72         77   \n",
       "6  11496         D. George   19       Netherlands       64         74   \n",
       "7  10773       C. Bassogog   21          Cameroon       65         72   \n",
       "8   6989      B. Guillaume   22           Belgium       68         74   \n",
       "9   1731          S. Pérez   24          Colombia       75         80   \n",
       "\n",
       "              Club  Value (M)  Wage (M) Position  \n",
       "0    Korona Kielce       0.07     0.001      CDM  \n",
       "1         Cagliari       0.70     0.010       CM  \n",
       "2         Atalanta       3.70     0.013       RB  \n",
       "3        Stevenage       0.16     0.002       CM  \n",
       "4     Boca Juniors       0.55     0.002       LB  \n",
       "5  Real Valladolid       4.20     0.012       RM  \n",
       "6        FC Twente       0.70     0.002       RM  \n",
       "7              NaN       0.00     0.000       ST  \n",
       "8       Angers SCO       1.20     0.013       ST  \n",
       "9     Boca Juniors       9.00     0.020      CDM  "
      ]
     },
     "execution_count": 2,
     "metadata": {},
     "output_type": "execute_result"
    }
   ],
   "source": [
    "# read the dataset and extract the features and target separately\n",
    "\n",
    "train = pd.read_csv('E:/GreyAtom/glab proj/FIFA/train.csv')\n",
    "#train_data.head(10)\n",
    "train.head(10)"
   ]
  },
  {
   "cell_type": "code",
   "execution_count": 3,
   "metadata": {},
   "outputs": [
    {
     "name": "stdout",
     "output_type": "stream",
     "text": [
      "Shape of the data is: (14384, 10)\n"
     ]
    }
   ],
   "source": [
    "# Shape of the data\n",
    "print(\"Shape of the data is:\", train.shape)"
   ]
  },
  {
   "cell_type": "code",
   "execution_count": 4,
   "metadata": {},
   "outputs": [
    {
     "name": "stdout",
     "output_type": "stream",
     "text": [
      "Statistical properties of data are as follows\n",
      "                 Id           Age       Overall     Potential     Value (M)  \\\n",
      "count  14384.000000  14384.000000  14384.000000  14384.000000  14384.000000   \n",
      "mean    8992.892728     25.148776     66.237695     71.181869      2.344967   \n",
      "std     5183.996368      4.620911      6.954458      6.074111      5.105376   \n",
      "min        0.000000     16.000000     46.000000     46.000000      0.000000   \n",
      "25%     4480.750000     21.000000     62.000000     67.000000      0.300000   \n",
      "50%     9001.500000     25.000000     66.000000     71.000000      0.675000   \n",
      "75%    13470.250000     28.000000     71.000000     75.000000      2.100000   \n",
      "max    17980.000000     47.000000     94.000000     94.000000    105.000000   \n",
      "\n",
      "           Wage (M)  \n",
      "count  14384.000000  \n",
      "mean       0.011435  \n",
      "std        0.022614  \n",
      "min        0.000000  \n",
      "25%        0.002000  \n",
      "50%        0.004000  \n",
      "75%        0.012000  \n",
      "max        0.565000  \n"
     ]
    }
   ],
   "source": [
    "#Checking statistical properties of data\n",
    "print(\"Statistical properties of data are as follows\")\n",
    "print(train.describe())"
   ]
  },
  {
   "cell_type": "code",
   "execution_count": 5,
   "metadata": {},
   "outputs": [
    {
     "name": "stdout",
     "output_type": "stream",
     "text": [
      "Skewness for different features is shown as below\n",
      "Id          -0.000627\n",
      "Age          0.387514\n",
      "Overall     -0.006657\n",
      "Potential    0.204984\n",
      "Value (M)    6.597601\n",
      "Wage (M)     7.382001\n",
      "dtype: float64\n"
     ]
    }
   ],
   "source": [
    "print(\"Skewness for different features is shown as below\")\n",
    "print(train.skew())"
   ]
  },
  {
   "cell_type": "code",
   "execution_count": 7,
   "metadata": {},
   "outputs": [],
   "source": [
    "# Split into features and target\n",
    "X = train[['Id','Overall','Potential','Wage (M)']]\n",
    "y = train['Value (M)']"
   ]
  },
  {
   "cell_type": "code",
   "execution_count": 8,
   "metadata": {},
   "outputs": [
    {
     "data": {
      "text/html": [
       "<div>\n",
       "<style scoped>\n",
       "    .dataframe tbody tr th:only-of-type {\n",
       "        vertical-align: middle;\n",
       "    }\n",
       "\n",
       "    .dataframe tbody tr th {\n",
       "        vertical-align: top;\n",
       "    }\n",
       "\n",
       "    .dataframe thead th {\n",
       "        text-align: right;\n",
       "    }\n",
       "</style>\n",
       "<table border=\"1\" class=\"dataframe\">\n",
       "  <thead>\n",
       "    <tr style=\"text-align: right;\">\n",
       "      <th></th>\n",
       "      <th>Id</th>\n",
       "      <th>Overall</th>\n",
       "      <th>Potential</th>\n",
       "      <th>Wage (M)</th>\n",
       "    </tr>\n",
       "  </thead>\n",
       "  <tbody>\n",
       "    <tr>\n",
       "      <th>0</th>\n",
       "      <td>17221</td>\n",
       "      <td>54</td>\n",
       "      <td>58</td>\n",
       "      <td>0.001</td>\n",
       "    </tr>\n",
       "    <tr>\n",
       "      <th>1</th>\n",
       "      <td>11353</td>\n",
       "      <td>64</td>\n",
       "      <td>73</td>\n",
       "      <td>0.010</td>\n",
       "    </tr>\n",
       "    <tr>\n",
       "      <th>2</th>\n",
       "      <td>3402</td>\n",
       "      <td>72</td>\n",
       "      <td>79</td>\n",
       "      <td>0.013</td>\n",
       "    </tr>\n",
       "    <tr>\n",
       "      <th>3</th>\n",
       "      <td>16071</td>\n",
       "      <td>57</td>\n",
       "      <td>66</td>\n",
       "      <td>0.002</td>\n",
       "    </tr>\n",
       "    <tr>\n",
       "      <th>4</th>\n",
       "      <td>12380</td>\n",
       "      <td>63</td>\n",
       "      <td>75</td>\n",
       "      <td>0.002</td>\n",
       "    </tr>\n",
       "    <tr>\n",
       "      <th>5</th>\n",
       "      <td>3959</td>\n",
       "      <td>72</td>\n",
       "      <td>77</td>\n",
       "      <td>0.012</td>\n",
       "    </tr>\n",
       "    <tr>\n",
       "      <th>6</th>\n",
       "      <td>11496</td>\n",
       "      <td>64</td>\n",
       "      <td>74</td>\n",
       "      <td>0.002</td>\n",
       "    </tr>\n",
       "    <tr>\n",
       "      <th>7</th>\n",
       "      <td>10773</td>\n",
       "      <td>65</td>\n",
       "      <td>72</td>\n",
       "      <td>0.000</td>\n",
       "    </tr>\n",
       "    <tr>\n",
       "      <th>8</th>\n",
       "      <td>6989</td>\n",
       "      <td>68</td>\n",
       "      <td>74</td>\n",
       "      <td>0.013</td>\n",
       "    </tr>\n",
       "    <tr>\n",
       "      <th>9</th>\n",
       "      <td>1731</td>\n",
       "      <td>75</td>\n",
       "      <td>80</td>\n",
       "      <td>0.020</td>\n",
       "    </tr>\n",
       "  </tbody>\n",
       "</table>\n",
       "</div>"
      ],
      "text/plain": [
       "      Id  Overall  Potential  Wage (M)\n",
       "0  17221       54         58     0.001\n",
       "1  11353       64         73     0.010\n",
       "2   3402       72         79     0.013\n",
       "3  16071       57         66     0.002\n",
       "4  12380       63         75     0.002\n",
       "5   3959       72         77     0.012\n",
       "6  11496       64         74     0.002\n",
       "7  10773       65         72     0.000\n",
       "8   6989       68         74     0.013\n",
       "9   1731       75         80     0.020"
      ]
     },
     "execution_count": 8,
     "metadata": {},
     "output_type": "execute_result"
    }
   ],
   "source": [
    "#Reading features (X)\n",
    "X.head(10)"
   ]
  },
  {
   "cell_type": "code",
   "execution_count": 9,
   "metadata": {},
   "outputs": [
    {
     "data": {
      "text/plain": [
       "0    0.07\n",
       "1    0.70\n",
       "2    3.70\n",
       "3    0.16\n",
       "4    0.55\n",
       "5    4.20\n",
       "6    0.70\n",
       "7    0.00\n",
       "8    1.20\n",
       "9    9.00\n",
       "Name: Value (M), dtype: float64"
      ]
     },
     "execution_count": 9,
     "metadata": {},
     "output_type": "execute_result"
    }
   ],
   "source": [
    "#Reading Target (y)\n",
    "y.head(10)"
   ]
  },
  {
   "cell_type": "code",
   "execution_count": 10,
   "metadata": {},
   "outputs": [],
   "source": [
    "# Separate into train and test data\n",
    "X_train,X_test,y_train,y_test=train_test_split(X,y ,test_size=0.3,random_state=6)"
   ]
  },
  {
   "cell_type": "markdown",
   "metadata": {},
   "source": [
    "### Visualize the data\n",
    "\n",
    "- Check for the categorical & continuous features. \n",
    "- Check out the best plots for plotting between categorical target and continuous features and try making some inferences from these plots.\n",
    "- Check for the correlation between the features"
   ]
  },
  {
   "cell_type": "code",
   "execution_count": 11,
   "metadata": {},
   "outputs": [
    {
     "name": "stdout",
     "output_type": "stream",
     "text": [
      "Below columns are present in dataset:\n",
      "Index(['Id', 'Overall', 'Potential', 'Wage (M)'], dtype='object')\n"
     ]
    }
   ],
   "source": [
    "# Code Starts here\n",
    "\n",
    "#Checking the best plots for plotting between continuous features and try making some inferences from these plots.\n",
    "\n",
    "cols = X_train.columns\n",
    "print(\"Below columns are present in dataset:\")\n",
    "print(cols)\n"
   ]
  },
  {
   "cell_type": "code",
   "execution_count": 13,
   "metadata": {},
   "outputs": [
    {
     "data": {
      "image/png": "[encoded data removed]",
      "text/plain": [
       "<Figure size 1440x1440 with 9 Axes>"
      ]
     },
     "metadata": {
      "needs_background": "light"
     },
     "output_type": "display_data"
    }
   ],
   "source": [
    "# fig, axes = plt.subplots(nrows = 3, ncols = 3, figsize=(20,20))\n",
    "\n",
    "# for i in range(0,3):\n",
    "#     for j in range(0,3):\n",
    "#         col = cols[i*3 + j]\n",
    "#         axes[i,j].set_title(col)\n",
    "#         #axes[i,j].scatter(X_train[col],y_train)\n",
    "#         axes[i,j].set_xlabel(col)\n",
    "#         axes[i,j].set_ylabel('Wage (M)')\n",
    "        \n",
    "# plt.show()"
   ]
  },
  {
   "cell_type": "code",
   "execution_count": 12,
   "metadata": {},
   "outputs": [
    {
     "data": {
      "text/plain": [
       "<matplotlib.axes._subplots.AxesSubplot at 0x1b855fd0>"
      ]
     },
     "execution_count": 12,
     "metadata": {},
     "output_type": "execute_result"
    },
    {
     "data": {
      "image/png": "[encoded data removed]",
      "text/plain": [
       "<Figure size 432x288 with 2 Axes>"
      ]
     },
     "metadata": {
      "needs_background": "light"
     },
     "output_type": "display_data"
    }
   ],
   "source": [
    "#Feature Selection\n",
    "\n",
    "#selecting suitable threshold and dropping columns\n",
    "\n",
    "# Plotting a heatmap using to check for correlation between the features\n",
    "sns.heatmap(train.corr())"
   ]
  },
  {
   "cell_type": "code",
   "execution_count": 13,
   "metadata": {},
   "outputs": [
    {
     "data": {
      "text/plain": [
       "Id         Overall     -0.975595\n",
       "Overall    Id          -0.975595\n",
       "Id         Potential   -0.653503\n",
       "Potential  Id          -0.653503\n",
       "Id         Value (M)   -0.548213\n",
       "Value (M)  Id          -0.548213\n",
       "Id         Wage (M)    -0.519570\n",
       "Wage (M)   Id          -0.519570\n",
       "Id         Age         -0.463232\n",
       "Age        Id          -0.463232\n",
       "           Potential   -0.224055\n",
       "Potential  Age         -0.224055\n",
       "Age        Value (M)    0.082716\n",
       "Value (M)  Age          0.082716\n",
       "Wage (M)   Age          0.149757\n",
       "Age        Wage (M)     0.149757\n",
       "           Overall      0.459678\n",
       "Overall    Age          0.459678\n",
       "Potential  Wage (M)     0.512910\n",
       "Wage (M)   Potential    0.512910\n",
       "Overall    Wage (M)     0.589736\n",
       "Wage (M)   Overall      0.589736\n",
       "Potential  Value (M)    0.595095\n",
       "Value (M)  Potential    0.595095\n",
       "Overall    Value (M)    0.635618\n",
       "Value (M)  Overall      0.635618\n",
       "Overall    Potential    0.678228\n",
       "Potential  Overall      0.678228\n",
       "Wage (M)   Value (M)    0.845124\n",
       "Value (M)  Wage (M)     0.845124\n",
       "Id         Id           1.000000\n",
       "Potential  Potential    1.000000\n",
       "Overall    Overall      1.000000\n",
       "Age        Age          1.000000\n",
       "Value (M)  Value (M)    1.000000\n",
       "Wage (M)   Wage (M)     1.000000\n",
       "dtype: float64"
      ]
     },
     "execution_count": 13,
     "metadata": {},
     "output_type": "execute_result"
    }
   ],
   "source": [
    "# Selecting upper and lower threshold\n",
    "\n",
    "upper_threshold = 0.5\n",
    "lower_threshold = -0.5\n",
    "\n",
    "# List the correlation pairs\n",
    "correlation = train.corr().unstack().sort_values(kind='quicksort')\n",
    "correlation"
   ]
  },
  {
   "cell_type": "code",
   "execution_count": 14,
   "metadata": {},
   "outputs": [
    {
     "name": "stdout",
     "output_type": "stream",
     "text": [
      "Id         Overall     -0.975595\n",
      "Overall    Id          -0.975595\n",
      "Id         Potential   -0.653503\n",
      "Potential  Id          -0.653503\n",
      "Id         Value (M)   -0.548213\n",
      "Value (M)  Id          -0.548213\n",
      "Id         Wage (M)    -0.519570\n",
      "Wage (M)   Id          -0.519570\n",
      "Potential  Wage (M)     0.512910\n",
      "Wage (M)   Potential    0.512910\n",
      "Overall    Wage (M)     0.589736\n",
      "Wage (M)   Overall      0.589736\n",
      "Potential  Value (M)    0.595095\n",
      "Value (M)  Potential    0.595095\n",
      "Overall    Value (M)    0.635618\n",
      "Value (M)  Overall      0.635618\n",
      "Overall    Potential    0.678228\n",
      "Potential  Overall      0.678228\n",
      "Wage (M)   Value (M)    0.845124\n",
      "Value (M)  Wage (M)     0.845124\n",
      "dtype: float64\n"
     ]
    }
   ],
   "source": [
    "# Select the highest correlation pairs having correlation greater than upper threshold and lower than lower threshold\n",
    "corr_var_list = correlation[((correlation>upper_threshold) | (correlation<lower_threshold)) & (correlation!=1)]\n",
    "print(corr_var_list)"
   ]
  },
  {
   "cell_type": "code",
   "execution_count": null,
   "metadata": {},
   "outputs": [],
   "source": []
  },
  {
   "cell_type": "markdown",
   "metadata": {},
   "source": [
    "### Model building\n",
    "\n",
    "- Separate the features and target and then split the train data into train and validation set.\n",
    "- Now let's come to the actual task, using linear regression, predict the `Value (M)`. \n",
    "- Try improving upon the `r2_score` (R-Square) using different parameters that give the best score. You can use higher degree [Polynomial Features of sklearn](https://scikit-learn.org/stable/modules/generated/sklearn.preprocessing.PolynomialFeatures.html) to improve the model prediction. \n",
    "\n"
   ]
  },
  {
   "cell_type": "code",
   "execution_count": 15,
   "metadata": {},
   "outputs": [
    {
     "data": {
      "text/plain": [
       "array([ 1.26099907,  3.14936449, -0.55005494, ...,  1.46226832,\n",
       "        1.58204067,  1.58681915])"
      ]
     },
     "execution_count": 15,
     "metadata": {},
     "output_type": "execute_result"
    }
   ],
   "source": [
    "# Code Starts here\n",
    "\n",
    "#Instantiate linear regression model\n",
    "regressor = LinearRegression()\n",
    "\n",
    "# fit the model\n",
    "regressor.fit(X_train,y_train)\n",
    "\n",
    "# predict the result\n",
    "y_pred = regressor.predict(X_test)\n",
    "y_pred\n"
   ]
  },
  {
   "cell_type": "code",
   "execution_count": 16,
   "metadata": {
    "scrolled": true
   },
   "outputs": [
    {
     "data": {
      "text/plain": [
       "5.73269028105946"
      ]
     },
     "execution_count": 16,
     "metadata": {},
     "output_type": "execute_result"
    }
   ],
   "source": [
    "# Calculate mse\n",
    "mse = mean_squared_error(y_test,y_pred)\n",
    "mse"
   ]
  },
  {
   "cell_type": "code",
   "execution_count": 17,
   "metadata": {},
   "outputs": [
    {
     "data": {
      "text/plain": [
       "0.788209191897524"
      ]
     },
     "execution_count": 17,
     "metadata": {},
     "output_type": "execute_result"
    }
   ],
   "source": [
    "# Calculate r2_score\n",
    "r2 = r2_score(y_test,y_pred)\n",
    "r2"
   ]
  },
  {
   "cell_type": "code",
   "execution_count": 18,
   "metadata": {},
   "outputs": [
    {
     "name": "stdout",
     "output_type": "stream",
     "text": [
      "Residual :  13328   -0.685999\n",
      "2639    -2.859364\n",
      "5353     0.750055\n",
      "13126   -5.949938\n",
      "5554    -1.144565\n",
      "           ...   \n",
      "10011   -0.846442\n",
      "12592   -0.321063\n",
      "3598    -0.687268\n",
      "13385   -0.707041\n",
      "8482    -0.486819\n",
      "Name: Value (M), Length: 4316, dtype: float64\n"
     ]
    },
    {
     "data": {
      "image/png": "[encoded data removed]",
      "text/plain": [
       "<Figure size 1080x576 with 1 Axes>"
      ]
     },
     "metadata": {
      "needs_background": "light"
     },
     "output_type": "display_data"
    }
   ],
   "source": [
    "#Residual Check\n",
    "residual = y_test - y_pred\n",
    "print(\"Residual : \",residual)\n",
    "\n",
    "plt.figure(figsize=(15,8))\n",
    "plt.hist(residual, bins=30)\n",
    "plt.xlabel(\"Residual\")\n",
    "plt.ylabel(\"Frequency\")\n",
    "plt.title(\"Residual Plot\")\n",
    "plt.show()"
   ]
  },
  {
   "cell_type": "markdown",
   "metadata": {},
   "source": [
    "### Prediction on the test data and creating the sample submission file.\n",
    "\n",
    "- Load the test data and store the `Id` column in a separate variable.\n",
    "- Perform the same operations on the test data that you have performed on the train data.\n",
    "- Create the submission file as a `csv` file consisting of the `Id` column from the test data and your prediction as the second column."
   ]
  },
  {
   "cell_type": "code",
   "execution_count": 23,
   "metadata": {},
   "outputs": [
    {
     "data": {
      "text/html": [
       "<div>\n",
       "<style scoped>\n",
       "    .dataframe tbody tr th:only-of-type {\n",
       "        vertical-align: middle;\n",
       "    }\n",
       "\n",
       "    .dataframe tbody tr th {\n",
       "        vertical-align: top;\n",
       "    }\n",
       "\n",
       "    .dataframe thead th {\n",
       "        text-align: right;\n",
       "    }\n",
       "</style>\n",
       "<table border=\"1\" class=\"dataframe\">\n",
       "  <thead>\n",
       "    <tr style=\"text-align: right;\">\n",
       "      <th></th>\n",
       "      <th>Id</th>\n",
       "      <th>Name</th>\n",
       "      <th>Age</th>\n",
       "      <th>Nationality</th>\n",
       "      <th>Overall</th>\n",
       "      <th>Potential</th>\n",
       "      <th>Club</th>\n",
       "      <th>Wage (M)</th>\n",
       "      <th>Position</th>\n",
       "    </tr>\n",
       "  </thead>\n",
       "  <tbody>\n",
       "    <tr>\n",
       "      <th>0</th>\n",
       "      <td>280</td>\n",
       "      <td>C. Vela</td>\n",
       "      <td>28</td>\n",
       "      <td>Mexico</td>\n",
       "      <td>82</td>\n",
       "      <td>82</td>\n",
       "      <td>Real Sociedad</td>\n",
       "      <td>0.046</td>\n",
       "      <td>ST</td>\n",
       "    </tr>\n",
       "    <tr>\n",
       "      <th>1</th>\n",
       "      <td>569</td>\n",
       "      <td>J. Stones</td>\n",
       "      <td>23</td>\n",
       "      <td>England</td>\n",
       "      <td>79</td>\n",
       "      <td>85</td>\n",
       "      <td>Manchester City</td>\n",
       "      <td>0.105</td>\n",
       "      <td>CB</td>\n",
       "    </tr>\n",
       "    <tr>\n",
       "      <th>2</th>\n",
       "      <td>8731</td>\n",
       "      <td>V. Vermeij</td>\n",
       "      <td>22</td>\n",
       "      <td>Netherlands</td>\n",
       "      <td>67</td>\n",
       "      <td>74</td>\n",
       "      <td>Heracles Almelo</td>\n",
       "      <td>0.007</td>\n",
       "      <td>ST</td>\n",
       "    </tr>\n",
       "    <tr>\n",
       "      <th>3</th>\n",
       "      <td>10085</td>\n",
       "      <td>G. Omae</td>\n",
       "      <td>27</td>\n",
       "      <td>Japan</td>\n",
       "      <td>65</td>\n",
       "      <td>65</td>\n",
       "      <td>Omiya Ardija</td>\n",
       "      <td>0.002</td>\n",
       "      <td>CAM</td>\n",
       "    </tr>\n",
       "    <tr>\n",
       "      <th>4</th>\n",
       "      <td>9831</td>\n",
       "      <td>N. Miatke</td>\n",
       "      <td>27</td>\n",
       "      <td>Germany</td>\n",
       "      <td>66</td>\n",
       "      <td>67</td>\n",
       "      <td>FSV Zwickau</td>\n",
       "      <td>0.001</td>\n",
       "      <td>LM</td>\n",
       "    </tr>\n",
       "    <tr>\n",
       "      <th>5</th>\n",
       "      <td>7346</td>\n",
       "      <td>T. Şahin</td>\n",
       "      <td>29</td>\n",
       "      <td>Turkey</td>\n",
       "      <td>68</td>\n",
       "      <td>68</td>\n",
       "      <td>Evkur Yeni Malatyaspor</td>\n",
       "      <td>0.010</td>\n",
       "      <td>RM</td>\n",
       "    </tr>\n",
       "    <tr>\n",
       "      <th>6</th>\n",
       "      <td>10496</td>\n",
       "      <td>J. Fabri</td>\n",
       "      <td>23</td>\n",
       "      <td>France</td>\n",
       "      <td>65</td>\n",
       "      <td>73</td>\n",
       "      <td>Stade Brestois 29</td>\n",
       "      <td>0.001</td>\n",
       "      <td>GK</td>\n",
       "    </tr>\n",
       "    <tr>\n",
       "      <th>7</th>\n",
       "      <td>8318</td>\n",
       "      <td>O. Aydın</td>\n",
       "      <td>23</td>\n",
       "      <td>Germany</td>\n",
       "      <td>67</td>\n",
       "      <td>75</td>\n",
       "      <td>Chemnitzer FC</td>\n",
       "      <td>0.001</td>\n",
       "      <td>LM</td>\n",
       "    </tr>\n",
       "    <tr>\n",
       "      <th>8</th>\n",
       "      <td>17589</td>\n",
       "      <td>A. Al Yousif</td>\n",
       "      <td>19</td>\n",
       "      <td>Saudi Arabia</td>\n",
       "      <td>52</td>\n",
       "      <td>62</td>\n",
       "      <td>Al Fateh</td>\n",
       "      <td>0.002</td>\n",
       "      <td>CB</td>\n",
       "    </tr>\n",
       "    <tr>\n",
       "      <th>9</th>\n",
       "      <td>3615</td>\n",
       "      <td>Clayton Fildeiras</td>\n",
       "      <td>33</td>\n",
       "      <td>Brazil</td>\n",
       "      <td>72</td>\n",
       "      <td>72</td>\n",
       "      <td>Sociedade Esportiva Palmeiras</td>\n",
       "      <td>0.023</td>\n",
       "      <td>CM</td>\n",
       "    </tr>\n",
       "  </tbody>\n",
       "</table>\n",
       "</div>"
      ],
      "text/plain": [
       "      Id               Name  Age   Nationality  Overall  Potential  \\\n",
       "0    280            C. Vela   28        Mexico       82         82   \n",
       "1    569          J. Stones   23       England       79         85   \n",
       "2   8731         V. Vermeij   22   Netherlands       67         74   \n",
       "3  10085            G. Omae   27         Japan       65         65   \n",
       "4   9831          N. Miatke   27       Germany       66         67   \n",
       "5   7346           T. Şahin   29        Turkey       68         68   \n",
       "6  10496           J. Fabri   23        France       65         73   \n",
       "7   8318           O. Aydın   23       Germany       67         75   \n",
       "8  17589       A. Al Yousif   19  Saudi Arabia       52         62   \n",
       "9   3615  Clayton Fildeiras   33        Brazil       72         72   \n",
       "\n",
       "                            Club  Wage (M) Position  \n",
       "0                  Real Sociedad     0.046       ST  \n",
       "1                Manchester City     0.105       CB  \n",
       "2                Heracles Almelo     0.007       ST  \n",
       "3                   Omiya Ardija     0.002      CAM  \n",
       "4                    FSV Zwickau     0.001       LM  \n",
       "5         Evkur Yeni Malatyaspor     0.010       RM  \n",
       "6              Stade Brestois 29     0.001       GK  \n",
       "7                  Chemnitzer FC     0.001       LM  \n",
       "8                       Al Fateh     0.002       CB  \n",
       "9  Sociedade Esportiva Palmeiras     0.023       CM  "
      ]
     },
     "execution_count": 23,
     "metadata": {},
     "output_type": "execute_result"
    }
   ],
   "source": [
    "# Code Starts here\n",
    "\n",
    "\n",
    "test = pd.read_csv(\"E:/GreyAtom/glab proj/FIFA/test.csv\")\n",
    "test.head(10)\n",
    "\n"
   ]
  },
  {
   "cell_type": "code",
   "execution_count": 24,
   "metadata": {},
   "outputs": [
    {
     "data": {
      "text/html": [
       "<div>\n",
       "<style scoped>\n",
       "    .dataframe tbody tr th:only-of-type {\n",
       "        vertical-align: middle;\n",
       "    }\n",
       "\n",
       "    .dataframe tbody tr th {\n",
       "        vertical-align: top;\n",
       "    }\n",
       "\n",
       "    .dataframe thead th {\n",
       "        text-align: right;\n",
       "    }\n",
       "</style>\n",
       "<table border=\"1\" class=\"dataframe\">\n",
       "  <thead>\n",
       "    <tr style=\"text-align: right;\">\n",
       "      <th></th>\n",
       "      <th>Id</th>\n",
       "      <th>Overall</th>\n",
       "      <th>Potential</th>\n",
       "      <th>Wage (M)</th>\n",
       "    </tr>\n",
       "  </thead>\n",
       "  <tbody>\n",
       "    <tr>\n",
       "      <th>0</th>\n",
       "      <td>280</td>\n",
       "      <td>82</td>\n",
       "      <td>82</td>\n",
       "      <td>0.046</td>\n",
       "    </tr>\n",
       "    <tr>\n",
       "      <th>1</th>\n",
       "      <td>569</td>\n",
       "      <td>79</td>\n",
       "      <td>85</td>\n",
       "      <td>0.105</td>\n",
       "    </tr>\n",
       "    <tr>\n",
       "      <th>2</th>\n",
       "      <td>8731</td>\n",
       "      <td>67</td>\n",
       "      <td>74</td>\n",
       "      <td>0.007</td>\n",
       "    </tr>\n",
       "    <tr>\n",
       "      <th>3</th>\n",
       "      <td>10085</td>\n",
       "      <td>65</td>\n",
       "      <td>65</td>\n",
       "      <td>0.002</td>\n",
       "    </tr>\n",
       "    <tr>\n",
       "      <th>4</th>\n",
       "      <td>9831</td>\n",
       "      <td>66</td>\n",
       "      <td>67</td>\n",
       "      <td>0.001</td>\n",
       "    </tr>\n",
       "  </tbody>\n",
       "</table>\n",
       "</div>"
      ],
      "text/plain": [
       "      Id  Overall  Potential  Wage (M)\n",
       "0    280       82         82     0.046\n",
       "1    569       79         85     0.105\n",
       "2   8731       67         74     0.007\n",
       "3  10085       65         65     0.002\n",
       "4   9831       66         67     0.001"
      ]
     },
     "execution_count": 24,
     "metadata": {},
     "output_type": "execute_result"
    }
   ],
   "source": [
    "id_ = test['Id']\n",
    "\n",
    "test.drop(['Name','Age', 'Nationality', 'Club', 'Position'],1,inplace=True)\n",
    "test.head()"
   ]
  },
  {
   "cell_type": "code",
   "execution_count": 25,
   "metadata": {},
   "outputs": [
    {
     "data": {
      "text/plain": [
       "array([12.5740973 , 19.59949247,  2.39904853, ...,  1.10472343,\n",
       "       13.75395161,  5.19572246])"
      ]
     },
     "execution_count": 25,
     "metadata": {},
     "output_type": "execute_result"
    }
   ],
   "source": [
    "y_pred_test = regressor.predict(test)\n",
    "y_pred_test"
   ]
  },
  {
   "cell_type": "code",
   "execution_count": 26,
   "metadata": {},
   "outputs": [
    {
     "data": {
      "text/html": [
       "<div>\n",
       "<style scoped>\n",
       "    .dataframe tbody tr th:only-of-type {\n",
       "        vertical-align: middle;\n",
       "    }\n",
       "\n",
       "    .dataframe tbody tr th {\n",
       "        vertical-align: top;\n",
       "    }\n",
       "\n",
       "    .dataframe thead th {\n",
       "        text-align: right;\n",
       "    }\n",
       "</style>\n",
       "<table border=\"1\" class=\"dataframe\">\n",
       "  <thead>\n",
       "    <tr style=\"text-align: right;\">\n",
       "      <th></th>\n",
       "      <th>Id</th>\n",
       "      <th>Value (M)</th>\n",
       "    </tr>\n",
       "  </thead>\n",
       "  <tbody>\n",
       "    <tr>\n",
       "      <th>0</th>\n",
       "      <td>280</td>\n",
       "      <td>12.574097</td>\n",
       "    </tr>\n",
       "    <tr>\n",
       "      <th>1</th>\n",
       "      <td>569</td>\n",
       "      <td>19.599492</td>\n",
       "    </tr>\n",
       "    <tr>\n",
       "      <th>2</th>\n",
       "      <td>8731</td>\n",
       "      <td>2.399049</td>\n",
       "    </tr>\n",
       "    <tr>\n",
       "      <th>3</th>\n",
       "      <td>10085</td>\n",
       "      <td>0.170749</td>\n",
       "    </tr>\n",
       "    <tr>\n",
       "      <th>4</th>\n",
       "      <td>9831</td>\n",
       "      <td>0.764772</td>\n",
       "    </tr>\n",
       "    <tr>\n",
       "      <th>5</th>\n",
       "      <td>7346</td>\n",
       "      <td>1.646347</td>\n",
       "    </tr>\n",
       "    <tr>\n",
       "      <th>6</th>\n",
       "      <td>10496</td>\n",
       "      <td>1.410217</td>\n",
       "    </tr>\n",
       "    <tr>\n",
       "      <th>7</th>\n",
       "      <td>8318</td>\n",
       "      <td>1.376669</td>\n",
       "    </tr>\n",
       "    <tr>\n",
       "      <th>8</th>\n",
       "      <td>17589</td>\n",
       "      <td>-3.189105</td>\n",
       "    </tr>\n",
       "    <tr>\n",
       "      <th>9</th>\n",
       "      <td>3615</td>\n",
       "      <td>3.886411</td>\n",
       "    </tr>\n",
       "  </tbody>\n",
       "</table>\n",
       "</div>"
      ],
      "text/plain": [
       "      Id  Value (M)\n",
       "0    280  12.574097\n",
       "1    569  19.599492\n",
       "2   8731   2.399049\n",
       "3  10085   0.170749\n",
       "4   9831   0.764772\n",
       "5   7346   1.646347\n",
       "6  10496   1.410217\n",
       "7   8318   1.376669\n",
       "8  17589  -3.189105\n",
       "9   3615   3.886411"
      ]
     },
     "execution_count": 26,
     "metadata": {},
     "output_type": "execute_result"
    }
   ],
   "source": [
    "final_submission = pd.DataFrame({'Id':id_,'Value (M)':y_pred_test})\n",
    "final_submission.head(10)"
   ]
  },
  {
   "cell_type": "code",
   "execution_count": 27,
   "metadata": {},
   "outputs": [],
   "source": [
    "final_submission.to_csv('final_submission.csv',index=False)"
   ]
  },
  {
   "cell_type": "code",
   "execution_count": null,
   "metadata": {},
   "outputs": [],
   "source": []
  }
 ],
 "metadata": {
  "kernelspec": {
   "display_name": "Python 3",
   "language": "python",
   "name": "python3"
  },
  "language_info": {
   "codemirror_mode": {
    "name": "ipython",
    "version": 3
   },
   "file_extension": ".py",
   "mimetype": "text/x-python",
   "name": "python",
   "nbconvert_exporter": "python",
   "pygments_lexer": "ipython3",
   "version": "3.8.3"
  }
 },
 "nbformat": 4,
 "nbformat_minor": 2
}
